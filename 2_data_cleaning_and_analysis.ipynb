{
 "cells": [
  {
   "cell_type": "markdown",
   "metadata": {},
   "source": [
    "# Data cleaning and manipulation\n",
    "MUSA 0550 Geospatial Data Science in Python   \n",
    "Anna Duan (annaduan@sas.upenn.edu)   \n",
    "Fall 2023   \n",
    " \n",
    "In the last notebook, we reviewed the basics of Python data structures and syntax. In this notebook, we will put those concepts to use and read, manipulate, and analyze crime data from [OpenDataPhilly.org](https://opendataphilly.org/datasets/crime-incidents/), a data source we will use often in this class. \n",
    "\n",
    "**Key concepts:**\n",
    "1. load and inspect data\n",
    "    - reading various filetypes using Pandas\n",
    "    - head(), describe()\n",
    "    - checking data types, shape, other dataframe attributes\n",
    "2. data processing\n",
    "    - cleaning data\n",
    "    - handling missingness (isnull(), dropna(), fillna())\n",
    "    - handling duplicates (drop_duplicates())\n",
    "    - renaming columns\n",
    "3. exploratory analysis\n",
    "    - aggregating data with groupby()\n",
    "    - pivoting from long to wide data\n",
    "4. data visualization\n",
    "\n",
    "References: \n",
    "- Python for Data Analysis, Wes McKinney 2022\n",
    "- https://musa-550-fall-2023.github.io/ Nick Hand 2023\n",
    "- https://www.geeksforgeeks.org/dataframe-attributes-in-python-pandas/ "
   ]
  },
  {
   "cell_type": "markdown",
   "metadata": {},
   "source": [
    "# Libraries \n",
    "\n",
    "In addition to `Pandas`, today we will be using `Matplotlib` to visualize our data."
   ]
  },
  {
   "cell_type": "code",
   "execution_count": 76,
   "metadata": {},
   "outputs": [],
   "source": [
    "import pandas as pd\n",
    "import matplotlib.pyplot as plt"
   ]
  },
  {
   "cell_type": "markdown",
   "metadata": {},
   "source": [
    "# 1 Load and inspect data \n",
    "`Pandas` has built-in functionality for reading a variety of data types, including `read_csv` for csv files. The function `head()` allows us to view the first 5 rows by default."
   ]
  },
  {
   "cell_type": "code",
   "execution_count": 77,
   "metadata": {},
   "outputs": [
    {
     "data": {
      "text/html": [
       "<div>\n",
       "<style scoped>\n",
       "    .dataframe tbody tr th:only-of-type {\n",
       "        vertical-align: middle;\n",
       "    }\n",
       "\n",
       "    .dataframe tbody tr th {\n",
       "        vertical-align: top;\n",
       "    }\n",
       "\n",
       "    .dataframe thead th {\n",
       "        text-align: right;\n",
       "    }\n",
       "</style>\n",
       "<table border=\"1\" class=\"dataframe\">\n",
       "  <thead>\n",
       "    <tr style=\"text-align: right;\">\n",
       "      <th></th>\n",
       "      <th>the_geom</th>\n",
       "      <th>cartodb_id</th>\n",
       "      <th>the_geom_webmercator</th>\n",
       "      <th>objectid</th>\n",
       "      <th>dc_dist</th>\n",
       "      <th>psa</th>\n",
       "      <th>dispatch_date_time</th>\n",
       "      <th>dispatch_date</th>\n",
       "      <th>dispatch_time</th>\n",
       "      <th>hour</th>\n",
       "      <th>dc_key</th>\n",
       "      <th>location_block</th>\n",
       "      <th>ucr_general</th>\n",
       "      <th>text_general_code</th>\n",
       "      <th>point_x</th>\n",
       "      <th>point_y</th>\n",
       "      <th>lat</th>\n",
       "      <th>lng</th>\n",
       "    </tr>\n",
       "  </thead>\n",
       "  <tbody>\n",
       "    <tr>\n",
       "      <th>0</th>\n",
       "      <td>NaN</td>\n",
       "      <td>3096883</td>\n",
       "      <td>NaN</td>\n",
       "      <td>18495129</td>\n",
       "      <td>35</td>\n",
       "      <td>2</td>\n",
       "      <td>2024-07-16 23:07:00+00</td>\n",
       "      <td>2024-07-16</td>\n",
       "      <td>19:07:00</td>\n",
       "      <td>19.0</td>\n",
       "      <td>2.024350e+11</td>\n",
       "      <td>5500 BLOCK OLD YORK RD</td>\n",
       "      <td>600</td>\n",
       "      <td>Thefts</td>\n",
       "      <td>NaN</td>\n",
       "      <td>NaN</td>\n",
       "      <td>NaN</td>\n",
       "      <td>NaN</td>\n",
       "    </tr>\n",
       "    <tr>\n",
       "      <th>1</th>\n",
       "      <td>0101000020E6100000D2AE9D8302CD52C068B6659FCBF9...</td>\n",
       "      <td>3097150</td>\n",
       "      <td>0101000020110F0000243A6FAA61EF5FC1226010300589...</td>\n",
       "      <td>13624408</td>\n",
       "      <td>18</td>\n",
       "      <td>3</td>\n",
       "      <td>2024-02-18 03:55:00+00</td>\n",
       "      <td>2024-02-17</td>\n",
       "      <td>22:55:00</td>\n",
       "      <td>22.0</td>\n",
       "      <td>2.024180e+11</td>\n",
       "      <td>4000 BLOCK SPRUCE ST</td>\n",
       "      <td>600</td>\n",
       "      <td>Thefts</td>\n",
       "      <td>-75.203278</td>\n",
       "      <td>39.951527</td>\n",
       "      <td>39.951527</td>\n",
       "      <td>-75.203278</td>\n",
       "    </tr>\n",
       "    <tr>\n",
       "      <th>2</th>\n",
       "      <td>NaN</td>\n",
       "      <td>3097550</td>\n",
       "      <td>NaN</td>\n",
       "      <td>16015563</td>\n",
       "      <td>17</td>\n",
       "      <td>1</td>\n",
       "      <td>2024-05-08 20:27:00+00</td>\n",
       "      <td>2024-05-08</td>\n",
       "      <td>16:27:00</td>\n",
       "      <td>16.0</td>\n",
       "      <td>2.024170e+11</td>\n",
       "      <td>2100 BLOCK SOUTH ST</td>\n",
       "      <td>600</td>\n",
       "      <td>Thefts</td>\n",
       "      <td>NaN</td>\n",
       "      <td>NaN</td>\n",
       "      <td>NaN</td>\n",
       "      <td>NaN</td>\n",
       "    </tr>\n",
       "    <tr>\n",
       "      <th>3</th>\n",
       "      <td>NaN</td>\n",
       "      <td>3097995</td>\n",
       "      <td>NaN</td>\n",
       "      <td>16047705</td>\n",
       "      <td>18</td>\n",
       "      <td>3</td>\n",
       "      <td>2024-04-20 20:07:00+00</td>\n",
       "      <td>2024-04-20</td>\n",
       "      <td>16:07:00</td>\n",
       "      <td>16.0</td>\n",
       "      <td>2.024180e+11</td>\n",
       "      <td>4800 BLOCK CHESTER AV 409</td>\n",
       "      <td>600</td>\n",
       "      <td>Thefts</td>\n",
       "      <td>NaN</td>\n",
       "      <td>NaN</td>\n",
       "      <td>NaN</td>\n",
       "      <td>NaN</td>\n",
       "    </tr>\n",
       "    <tr>\n",
       "      <th>4</th>\n",
       "      <td>NaN</td>\n",
       "      <td>3098085</td>\n",
       "      <td>NaN</td>\n",
       "      <td>19576776</td>\n",
       "      <td>9</td>\n",
       "      <td>1</td>\n",
       "      <td>2024-08-02 23:48:00+00</td>\n",
       "      <td>2024-08-02</td>\n",
       "      <td>19:48:00</td>\n",
       "      <td>19.0</td>\n",
       "      <td>2.024091e+11</td>\n",
       "      <td>1700 BLOCK GREEN ST 3</td>\n",
       "      <td>600</td>\n",
       "      <td>Thefts</td>\n",
       "      <td>NaN</td>\n",
       "      <td>NaN</td>\n",
       "      <td>NaN</td>\n",
       "      <td>NaN</td>\n",
       "    </tr>\n",
       "  </tbody>\n",
       "</table>\n",
       "</div>"
      ],
      "text/plain": [
       "                                            the_geom  cartodb_id  \\\n",
       "0                                                NaN     3096883   \n",
       "1  0101000020E6100000D2AE9D8302CD52C068B6659FCBF9...     3097150   \n",
       "2                                                NaN     3097550   \n",
       "3                                                NaN     3097995   \n",
       "4                                                NaN     3098085   \n",
       "\n",
       "                                the_geom_webmercator  objectid  dc_dist psa  \\\n",
       "0                                                NaN  18495129       35   2   \n",
       "1  0101000020110F0000243A6FAA61EF5FC1226010300589...  13624408       18   3   \n",
       "2                                                NaN  16015563       17   1   \n",
       "3                                                NaN  16047705       18   3   \n",
       "4                                                NaN  19576776        9   1   \n",
       "\n",
       "       dispatch_date_time dispatch_date dispatch_time  hour        dc_key  \\\n",
       "0  2024-07-16 23:07:00+00    2024-07-16      19:07:00  19.0  2.024350e+11   \n",
       "1  2024-02-18 03:55:00+00    2024-02-17      22:55:00  22.0  2.024180e+11   \n",
       "2  2024-05-08 20:27:00+00    2024-05-08      16:27:00  16.0  2.024170e+11   \n",
       "3  2024-04-20 20:07:00+00    2024-04-20      16:07:00  16.0  2.024180e+11   \n",
       "4  2024-08-02 23:48:00+00    2024-08-02      19:48:00  19.0  2.024091e+11   \n",
       "\n",
       "              location_block  ucr_general text_general_code    point_x  \\\n",
       "0     5500 BLOCK OLD YORK RD          600            Thefts        NaN   \n",
       "1       4000 BLOCK SPRUCE ST          600            Thefts -75.203278   \n",
       "2        2100 BLOCK SOUTH ST          600            Thefts        NaN   \n",
       "3  4800 BLOCK CHESTER AV 409          600            Thefts        NaN   \n",
       "4      1700 BLOCK GREEN ST 3          600            Thefts        NaN   \n",
       "\n",
       "     point_y        lat        lng  \n",
       "0        NaN        NaN        NaN  \n",
       "1  39.951527  39.951527 -75.203278  \n",
       "2        NaN        NaN        NaN  \n",
       "3        NaN        NaN        NaN  \n",
       "4        NaN        NaN        NaN  "
      ]
     },
     "execution_count": 77,
     "metadata": {},
     "output_type": "execute_result"
    }
   ],
   "source": [
    "crime24 = pd.read_csv('data/crime_2024.csv')\n",
    "crime24.head(5)"
   ]
  },
  {
   "cell_type": "markdown",
   "metadata": {},
   "source": [
    " `Describe` returns summary statistics for all numeric columns."
   ]
  },
  {
   "cell_type": "code",
   "execution_count": 78,
   "metadata": {},
   "outputs": [
    {
     "data": {
      "text/html": [
       "<div>\n",
       "<style scoped>\n",
       "    .dataframe tbody tr th:only-of-type {\n",
       "        vertical-align: middle;\n",
       "    }\n",
       "\n",
       "    .dataframe tbody tr th {\n",
       "        vertical-align: top;\n",
       "    }\n",
       "\n",
       "    .dataframe thead th {\n",
       "        text-align: right;\n",
       "    }\n",
       "</style>\n",
       "<table border=\"1\" class=\"dataframe\">\n",
       "  <thead>\n",
       "    <tr style=\"text-align: right;\">\n",
       "      <th></th>\n",
       "      <th>cartodb_id</th>\n",
       "      <th>objectid</th>\n",
       "      <th>dc_dist</th>\n",
       "      <th>hour</th>\n",
       "      <th>dc_key</th>\n",
       "      <th>ucr_general</th>\n",
       "      <th>point_x</th>\n",
       "      <th>point_y</th>\n",
       "      <th>lat</th>\n",
       "      <th>lng</th>\n",
       "    </tr>\n",
       "  </thead>\n",
       "  <tbody>\n",
       "    <tr>\n",
       "      <th>count</th>\n",
       "      <td>1.037180e+05</td>\n",
       "      <td>1.037180e+05</td>\n",
       "      <td>103718.000000</td>\n",
       "      <td>103716.000000</td>\n",
       "      <td>1.037180e+05</td>\n",
       "      <td>103718.000000</td>\n",
       "      <td>97219.000000</td>\n",
       "      <td>97219.000000</td>\n",
       "      <td>97219.000000</td>\n",
       "      <td>97219.000000</td>\n",
       "    </tr>\n",
       "    <tr>\n",
       "      <th>mean</th>\n",
       "      <td>3.220324e+06</td>\n",
       "      <td>1.635744e+07</td>\n",
       "      <td>17.447830</td>\n",
       "      <td>13.178246</td>\n",
       "      <td>2.024173e+11</td>\n",
       "      <td>971.705972</td>\n",
       "      <td>-75.145955</td>\n",
       "      <td>39.993454</td>\n",
       "      <td>39.993454</td>\n",
       "      <td>-75.145955</td>\n",
       "    </tr>\n",
       "    <tr>\n",
       "      <th>std</th>\n",
       "      <td>3.772043e+04</td>\n",
       "      <td>2.129953e+06</td>\n",
       "      <td>11.195805</td>\n",
       "      <td>5.719198</td>\n",
       "      <td>1.670604e+07</td>\n",
       "      <td>626.823503</td>\n",
       "      <td>0.423062</td>\n",
       "      <td>0.227281</td>\n",
       "      <td>0.227281</td>\n",
       "      <td>0.423062</td>\n",
       "    </tr>\n",
       "    <tr>\n",
       "      <th>min</th>\n",
       "      <td>3.096883e+06</td>\n",
       "      <td>1.213184e+07</td>\n",
       "      <td>1.000000</td>\n",
       "      <td>0.000000</td>\n",
       "      <td>1.992191e+11</td>\n",
       "      <td>100.000000</td>\n",
       "      <td>-80.502372</td>\n",
       "      <td>0.000000</td>\n",
       "      <td>0.000000</td>\n",
       "      <td>-80.502372</td>\n",
       "    </tr>\n",
       "    <tr>\n",
       "      <th>25%</th>\n",
       "      <td>3.186686e+06</td>\n",
       "      <td>1.451864e+07</td>\n",
       "      <td>9.000000</td>\n",
       "      <td>9.000000</td>\n",
       "      <td>2.024090e+11</td>\n",
       "      <td>600.000000</td>\n",
       "      <td>-75.185287</td>\n",
       "      <td>39.959037</td>\n",
       "      <td>39.959037</td>\n",
       "      <td>-75.185287</td>\n",
       "    </tr>\n",
       "    <tr>\n",
       "      <th>50%</th>\n",
       "      <td>3.224004e+06</td>\n",
       "      <td>1.629288e+07</td>\n",
       "      <td>16.000000</td>\n",
       "      <td>13.000000</td>\n",
       "      <td>2.024160e+11</td>\n",
       "      <td>700.000000</td>\n",
       "      <td>-75.156961</td>\n",
       "      <td>39.993112</td>\n",
       "      <td>39.993112</td>\n",
       "      <td>-75.156961</td>\n",
       "    </tr>\n",
       "    <tr>\n",
       "      <th>75%</th>\n",
       "      <td>3.253575e+06</td>\n",
       "      <td>1.830155e+07</td>\n",
       "      <td>24.000000</td>\n",
       "      <td>18.000000</td>\n",
       "      <td>2.024240e+11</td>\n",
       "      <td>1100.000000</td>\n",
       "      <td>-75.114734</td>\n",
       "      <td>40.030595</td>\n",
       "      <td>40.030595</td>\n",
       "      <td>-75.114734</td>\n",
       "    </tr>\n",
       "    <tr>\n",
       "      <th>max</th>\n",
       "      <td>3.279529e+06</td>\n",
       "      <td>1.971639e+07</td>\n",
       "      <td>77.000000</td>\n",
       "      <td>23.000000</td>\n",
       "      <td>2.024770e+11</td>\n",
       "      <td>2600.000000</td>\n",
       "      <td>0.000000</td>\n",
       "      <td>42.224336</td>\n",
       "      <td>42.224336</td>\n",
       "      <td>0.000000</td>\n",
       "    </tr>\n",
       "  </tbody>\n",
       "</table>\n",
       "</div>"
      ],
      "text/plain": [
       "         cartodb_id      objectid        dc_dist           hour        dc_key  \\\n",
       "count  1.037180e+05  1.037180e+05  103718.000000  103716.000000  1.037180e+05   \n",
       "mean   3.220324e+06  1.635744e+07      17.447830      13.178246  2.024173e+11   \n",
       "std    3.772043e+04  2.129953e+06      11.195805       5.719198  1.670604e+07   \n",
       "min    3.096883e+06  1.213184e+07       1.000000       0.000000  1.992191e+11   \n",
       "25%    3.186686e+06  1.451864e+07       9.000000       9.000000  2.024090e+11   \n",
       "50%    3.224004e+06  1.629288e+07      16.000000      13.000000  2.024160e+11   \n",
       "75%    3.253575e+06  1.830155e+07      24.000000      18.000000  2.024240e+11   \n",
       "max    3.279529e+06  1.971639e+07      77.000000      23.000000  2.024770e+11   \n",
       "\n",
       "         ucr_general       point_x       point_y           lat           lng  \n",
       "count  103718.000000  97219.000000  97219.000000  97219.000000  97219.000000  \n",
       "mean      971.705972    -75.145955     39.993454     39.993454    -75.145955  \n",
       "std       626.823503      0.423062      0.227281      0.227281      0.423062  \n",
       "min       100.000000    -80.502372      0.000000      0.000000    -80.502372  \n",
       "25%       600.000000    -75.185287     39.959037     39.959037    -75.185287  \n",
       "50%       700.000000    -75.156961     39.993112     39.993112    -75.156961  \n",
       "75%      1100.000000    -75.114734     40.030595     40.030595    -75.114734  \n",
       "max      2600.000000      0.000000     42.224336     42.224336      0.000000  "
      ]
     },
     "execution_count": 78,
     "metadata": {},
     "output_type": "execute_result"
    }
   ],
   "source": [
    "crime24.describe()"
   ]
  },
  {
   "cell_type": "markdown",
   "metadata": {},
   "source": [
    "Pandas dataframes also have useful [attributes](https://www.geeksforgeeks.org/dataframe-attributes-in-python-pandas/) which can be called to tell you more about the data. `shape`, `dtypes`, and `columns` are a good start. \n",
    "\n",
    "Note that the data types are not exactly the ones we looked at in the last notebook. For now, just remember that float64 and int64 are both numeric, and that object means string."
   ]
  },
  {
   "cell_type": "code",
   "execution_count": 79,
   "metadata": {},
   "outputs": [
    {
     "name": "stdout",
     "output_type": "stream",
     "text": [
      "Dataframe dimensions:\n",
      " (103718, 18) \n",
      "\n"
     ]
    }
   ],
   "source": [
    "# shape tells us the dimensions of the dataframe (rows, columns)\n",
    "print(f\"Dataframe dimensions:\\n\", crime24.shape, \"\\n\")  #\\n is used to create a line break"
   ]
  },
  {
   "cell_type": "code",
   "execution_count": 80,
   "metadata": {},
   "outputs": [
    {
     "name": "stdout",
     "output_type": "stream",
     "text": [
      "Column data types:\n",
      " the_geom                 object\n",
      "cartodb_id                int64\n",
      "the_geom_webmercator     object\n",
      "objectid                  int64\n",
      "dc_dist                   int64\n",
      "psa                      object\n",
      "dispatch_date_time       object\n",
      "dispatch_date            object\n",
      "dispatch_time            object\n",
      "hour                    float64\n",
      "dc_key                  float64\n",
      "location_block           object\n",
      "ucr_general               int64\n",
      "text_general_code        object\n",
      "point_x                 float64\n",
      "point_y                 float64\n",
      "lat                     float64\n",
      "lng                     float64\n",
      "dtype: object \n",
      "\n"
     ]
    }
   ],
   "source": [
    "# dtypes tells us the data type of each column - recall numeric AND string types from last notebook\n",
    "print(f\"Column data types:\\n\", crime24.dtypes, \"\\n\")"
   ]
  },
  {
   "cell_type": "code",
   "execution_count": 81,
   "metadata": {},
   "outputs": [
    {
     "name": "stdout",
     "output_type": "stream",
     "text": [
      "Column names:\n",
      " Index(['the_geom', 'cartodb_id', 'the_geom_webmercator', 'objectid', 'dc_dist',\n",
      "       'psa', 'dispatch_date_time', 'dispatch_date', 'dispatch_time', 'hour',\n",
      "       'dc_key', 'location_block', 'ucr_general', 'text_general_code',\n",
      "       'point_x', 'point_y', 'lat', 'lng'],\n",
      "      dtype='object') \n",
      "\n"
     ]
    }
   ],
   "source": [
    "# column returns the column names\n",
    "print(f\"Column names:\\n\", crime24.columns, \"\\n\")"
   ]
  },
  {
   "cell_type": "markdown",
   "metadata": {},
   "source": [
    "# 2 Data processing\n",
    "Data from external sources often contains more information than we need for our analysis. Referring back to the column names in our dataframe, we can select just the ones that we need using double square brackets. Unlike in R, column names must be in quotes. "
   ]
  },
  {
   "cell_type": "code",
   "execution_count": 82,
   "metadata": {},
   "outputs": [
    {
     "data": {
      "text/html": [
       "<div>\n",
       "<style scoped>\n",
       "    .dataframe tbody tr th:only-of-type {\n",
       "        vertical-align: middle;\n",
       "    }\n",
       "\n",
       "    .dataframe tbody tr th {\n",
       "        vertical-align: top;\n",
       "    }\n",
       "\n",
       "    .dataframe thead th {\n",
       "        text-align: right;\n",
       "    }\n",
       "</style>\n",
       "<table border=\"1\" class=\"dataframe\">\n",
       "  <thead>\n",
       "    <tr style=\"text-align: right;\">\n",
       "      <th></th>\n",
       "      <th>hour</th>\n",
       "      <th>dispatch_date</th>\n",
       "      <th>lat</th>\n",
       "      <th>lng</th>\n",
       "      <th>text_general_code</th>\n",
       "    </tr>\n",
       "  </thead>\n",
       "  <tbody>\n",
       "    <tr>\n",
       "      <th>0</th>\n",
       "      <td>19.0</td>\n",
       "      <td>2024-07-16</td>\n",
       "      <td>NaN</td>\n",
       "      <td>NaN</td>\n",
       "      <td>Thefts</td>\n",
       "    </tr>\n",
       "    <tr>\n",
       "      <th>1</th>\n",
       "      <td>22.0</td>\n",
       "      <td>2024-02-17</td>\n",
       "      <td>39.951527</td>\n",
       "      <td>-75.203278</td>\n",
       "      <td>Thefts</td>\n",
       "    </tr>\n",
       "    <tr>\n",
       "      <th>2</th>\n",
       "      <td>16.0</td>\n",
       "      <td>2024-05-08</td>\n",
       "      <td>NaN</td>\n",
       "      <td>NaN</td>\n",
       "      <td>Thefts</td>\n",
       "    </tr>\n",
       "    <tr>\n",
       "      <th>3</th>\n",
       "      <td>16.0</td>\n",
       "      <td>2024-04-20</td>\n",
       "      <td>NaN</td>\n",
       "      <td>NaN</td>\n",
       "      <td>Thefts</td>\n",
       "    </tr>\n",
       "    <tr>\n",
       "      <th>4</th>\n",
       "      <td>19.0</td>\n",
       "      <td>2024-08-02</td>\n",
       "      <td>NaN</td>\n",
       "      <td>NaN</td>\n",
       "      <td>Thefts</td>\n",
       "    </tr>\n",
       "  </tbody>\n",
       "</table>\n",
       "</div>"
      ],
      "text/plain": [
       "   hour dispatch_date        lat        lng text_general_code\n",
       "0  19.0    2024-07-16        NaN        NaN            Thefts\n",
       "1  22.0    2024-02-17  39.951527 -75.203278            Thefts\n",
       "2  16.0    2024-05-08        NaN        NaN            Thefts\n",
       "3  16.0    2024-04-20        NaN        NaN            Thefts\n",
       "4  19.0    2024-08-02        NaN        NaN            Thefts"
      ]
     },
     "execution_count": 82,
     "metadata": {},
     "output_type": "execute_result"
    }
   ],
   "source": [
    "# Select a subset of columns\n",
    "crime_subset = crime24[['hour', 'dispatch_date', 'lat', 'lng', 'text_general_code']]\n",
    "\n",
    "# Display the first few rows of the subset\n",
    "crime_subset.head(5)"
   ]
  },
  {
   "cell_type": "markdown",
   "metadata": {},
   "source": [
    "Using rename(), let's shorten the column name for the crime types. This function takes a dictionary as its columns argument: on the left is the former name, on the right is the new name."
   ]
  },
  {
   "cell_type": "code",
   "execution_count": 83,
   "metadata": {},
   "outputs": [
    {
     "data": {
      "text/html": [
       "<div>\n",
       "<style scoped>\n",
       "    .dataframe tbody tr th:only-of-type {\n",
       "        vertical-align: middle;\n",
       "    }\n",
       "\n",
       "    .dataframe tbody tr th {\n",
       "        vertical-align: top;\n",
       "    }\n",
       "\n",
       "    .dataframe thead th {\n",
       "        text-align: right;\n",
       "    }\n",
       "</style>\n",
       "<table border=\"1\" class=\"dataframe\">\n",
       "  <thead>\n",
       "    <tr style=\"text-align: right;\">\n",
       "      <th></th>\n",
       "      <th>hour</th>\n",
       "      <th>dispatch_date</th>\n",
       "      <th>lat</th>\n",
       "      <th>lng</th>\n",
       "      <th>crime</th>\n",
       "    </tr>\n",
       "  </thead>\n",
       "  <tbody>\n",
       "    <tr>\n",
       "      <th>0</th>\n",
       "      <td>19.0</td>\n",
       "      <td>2024-07-16</td>\n",
       "      <td>NaN</td>\n",
       "      <td>NaN</td>\n",
       "      <td>Thefts</td>\n",
       "    </tr>\n",
       "    <tr>\n",
       "      <th>1</th>\n",
       "      <td>22.0</td>\n",
       "      <td>2024-02-17</td>\n",
       "      <td>39.951527</td>\n",
       "      <td>-75.203278</td>\n",
       "      <td>Thefts</td>\n",
       "    </tr>\n",
       "    <tr>\n",
       "      <th>2</th>\n",
       "      <td>16.0</td>\n",
       "      <td>2024-05-08</td>\n",
       "      <td>NaN</td>\n",
       "      <td>NaN</td>\n",
       "      <td>Thefts</td>\n",
       "    </tr>\n",
       "    <tr>\n",
       "      <th>3</th>\n",
       "      <td>16.0</td>\n",
       "      <td>2024-04-20</td>\n",
       "      <td>NaN</td>\n",
       "      <td>NaN</td>\n",
       "      <td>Thefts</td>\n",
       "    </tr>\n",
       "    <tr>\n",
       "      <th>4</th>\n",
       "      <td>19.0</td>\n",
       "      <td>2024-08-02</td>\n",
       "      <td>NaN</td>\n",
       "      <td>NaN</td>\n",
       "      <td>Thefts</td>\n",
       "    </tr>\n",
       "  </tbody>\n",
       "</table>\n",
       "</div>"
      ],
      "text/plain": [
       "   hour dispatch_date        lat        lng   crime\n",
       "0  19.0    2024-07-16        NaN        NaN  Thefts\n",
       "1  22.0    2024-02-17  39.951527 -75.203278  Thefts\n",
       "2  16.0    2024-05-08        NaN        NaN  Thefts\n",
       "3  16.0    2024-04-20        NaN        NaN  Thefts\n",
       "4  19.0    2024-08-02        NaN        NaN  Thefts"
      ]
     },
     "execution_count": 83,
     "metadata": {},
     "output_type": "execute_result"
    }
   ],
   "source": [
    "# rename columns\n",
    "crime_subset = crime_subset.rename(columns={'text_general_code': 'crime'})\n",
    "crime_subset.head(5)"
   ]
  },
  {
   "cell_type": "markdown",
   "metadata": {},
   "source": [
    "`notnull()` and `isna()` are useful for filtering out missing values. Here, we are subsetting the values that fulfill the condition of neither 'hour' nor 'crime' being a null value. In other instances, we may require that only one is non-null, in which case we would use '|', meaning 'or', instead of '&'."
   ]
  },
  {
   "cell_type": "code",
   "execution_count": 84,
   "metadata": {},
   "outputs": [
    {
     "data": {
      "text/plain": [
       "(103718, 5)"
      ]
     },
     "execution_count": 84,
     "metadata": {},
     "output_type": "execute_result"
    }
   ],
   "source": [
    "# Filter out missing lat/lng values\n",
    "crime_clean = crime_subset[crime_subset['hour'].notnull() & crime_subset['crime'].notnull()]\n",
    "\n",
    "crime_subset.shape"
   ]
  },
  {
   "cell_type": "markdown",
   "metadata": {},
   "source": [
    "# 3 Exploratory analysis"
   ]
  },
  {
   "cell_type": "markdown",
   "metadata": {},
   "source": [
    "Now the data is ready for analysis. Let's take a look first at the types of crimes commited. Using `unique()`, we can view all of the unique values for a given column."
   ]
  },
  {
   "cell_type": "code",
   "execution_count": 85,
   "metadata": {},
   "outputs": [
    {
     "data": {
      "text/plain": [
       "array(['Thefts', 'Fraud', 'Theft from Vehicle',\n",
       "       'Aggravated Assault No Firearm', 'Aggravated Assault Firearm',\n",
       "       'Burglary Non-Residential', 'Robbery Firearm', 'Rape',\n",
       "       'Robbery No Firearm', 'Burglary Residential', 'Other Assaults',\n",
       "       'Vandalism/Criminal Mischief', 'Weapon Violations',\n",
       "       'All Other Offenses', 'Disorderly Conduct',\n",
       "       'Narcotic / Drug Law Violations', 'Receiving Stolen Property',\n",
       "       'Other Sex Offenses (Not Commercialized)',\n",
       "       'Offenses Against Family and Children',\n",
       "       'DRIVING UNDER THE INFLUENCE', 'Arson', 'Embezzlement',\n",
       "       'Forgery and Counterfeiting', 'Vagrancy/Loitering',\n",
       "       'Prostitution and Commercialized Vice', 'Motor Vehicle Theft',\n",
       "       'Liquor Law Violations', 'Gambling Violations',\n",
       "       'Public Drunkenness', 'Homicide - Criminal',\n",
       "       'Homicide - Justifiable'], dtype=object)"
      ]
     },
     "execution_count": 85,
     "metadata": {},
     "output_type": "execute_result"
    }
   ],
   "source": [
    "crime_subset['crime'].unique()"
   ]
  },
  {
   "cell_type": "markdown",
   "metadata": {},
   "source": [
    "Let's find out what types of crime are most common. We will use `value_counts()` to count the number of occurences (rows) associated with each unique crime value. It looks like theft and assault are the most common categories."
   ]
  },
  {
   "cell_type": "code",
   "execution_count": 86,
   "metadata": {},
   "outputs": [
    {
     "data": {
      "text/plain": [
       "crime\n",
       "Thefts                                     26109\n",
       "Other Assaults                             17640\n",
       "All Other Offenses                          9415\n",
       "Motor Vehicle Theft                         9411\n",
       "Vandalism/Criminal Mischief                 9288\n",
       "Theft from Vehicle                          7220\n",
       "Fraud                                       5280\n",
       "Aggravated Assault No Firearm               3609\n",
       "Burglary Residential                        2260\n",
       "Narcotic / Drug Law Violations              1932\n",
       "Aggravated Assault Firearm                  1875\n",
       "Weapon Violations                           1805\n",
       "Robbery No Firearm                          1665\n",
       "Robbery Firearm                             1075\n",
       "Burglary Non-Residential                     991\n",
       "Receiving Stolen Property                    820\n",
       "Other Sex Offenses (Not Commercialized)      739\n",
       "DRIVING UNDER THE INFLUENCE                  604\n",
       "Arson                                        465\n",
       "Rape                                         324\n",
       "Disorderly Conduct                           245\n",
       "Offenses Against Family and Children         237\n",
       "Homicide - Criminal                          170\n",
       "Prostitution and Commercialized Vice         162\n",
       "Embezzlement                                 147\n",
       "Forgery and Counterfeiting                   100\n",
       "Liquor Law Violations                         67\n",
       "Public Drunkenness                            25\n",
       "Gambling Violations                           19\n",
       "Vagrancy/Loitering                            16\n",
       "Homicide - Justifiable                         1\n",
       "Name: count, dtype: int64"
      ]
     },
     "execution_count": 86,
     "metadata": {},
     "output_type": "execute_result"
    }
   ],
   "source": [
    "# Count number of crimes per type\n",
    "crime_count = crime_clean['crime'].value_counts()\n",
    "crime_count"
   ]
  },
  {
   "cell_type": "markdown",
   "metadata": {},
   "source": [
    "What about time of day? Let's take a look at the hour column.\n",
    "\n",
    "The most incidents occur at 4pm followed by 5pm and noon."
   ]
  },
  {
   "cell_type": "code",
   "execution_count": 87,
   "metadata": {},
   "outputs": [
    {
     "data": {
      "text/plain": [
       "hour\n",
       "16.0    7752\n",
       "17.0    7103\n",
       "12.0    6727\n",
       "11.0    6534\n",
       "13.0    6418\n",
       "10.0    6339\n",
       "18.0    6212\n",
       "9.0     6161\n",
       "15.0    5905\n",
       "19.0    5425\n",
       "8.0     5334\n",
       "20.0    4812\n",
       "14.0    4801\n",
       "21.0    3874\n",
       "0.0     2997\n",
       "23.0    2906\n",
       "22.0    2887\n",
       "7.0     2669\n",
       "1.0     2229\n",
       "2.0     1758\n",
       "3.0     1415\n",
       "4.0     1201\n",
       "5.0     1176\n",
       "6.0     1081\n",
       "Name: count, dtype: int64"
      ]
     },
     "execution_count": 87,
     "metadata": {},
     "output_type": "execute_result"
    }
   ],
   "source": [
    "# Count number of crimes per hour\n",
    "hour_count = crime_clean['hour'].value_counts()\n",
    "hour_count"
   ]
  },
  {
   "cell_type": "markdown",
   "metadata": {},
   "source": [
    "Do different crimes have unique temporal patterns? Let's use `groupby` to find out. Grouping by 'hour' and 'crime' means that we are calculating the frequency of each unique hour-crime type combination (thefts at 12am, thefts at 1am, thefts at 2am, and so on...)"
   ]
  },
  {
   "cell_type": "code",
   "execution_count": 88,
   "metadata": {},
   "outputs": [
    {
     "data": {
      "text/html": [
       "<div>\n",
       "<style scoped>\n",
       "    .dataframe tbody tr th:only-of-type {\n",
       "        vertical-align: middle;\n",
       "    }\n",
       "\n",
       "    .dataframe tbody tr th {\n",
       "        vertical-align: top;\n",
       "    }\n",
       "\n",
       "    .dataframe thead th {\n",
       "        text-align: right;\n",
       "    }\n",
       "</style>\n",
       "<table border=\"1\" class=\"dataframe\">\n",
       "  <thead>\n",
       "    <tr style=\"text-align: right;\">\n",
       "      <th></th>\n",
       "      <th>hour</th>\n",
       "      <th>crime</th>\n",
       "      <th>count</th>\n",
       "    </tr>\n",
       "  </thead>\n",
       "  <tbody>\n",
       "    <tr>\n",
       "      <th>2</th>\n",
       "      <td>0.0</td>\n",
       "      <td>All Other Offenses</td>\n",
       "      <td>561</td>\n",
       "    </tr>\n",
       "    <tr>\n",
       "      <th>11</th>\n",
       "      <td>0.0</td>\n",
       "      <td>Motor Vehicle Theft</td>\n",
       "      <td>221</td>\n",
       "    </tr>\n",
       "    <tr>\n",
       "      <th>14</th>\n",
       "      <td>0.0</td>\n",
       "      <td>Other Assaults</td>\n",
       "      <td>681</td>\n",
       "    </tr>\n",
       "    <tr>\n",
       "      <th>22</th>\n",
       "      <td>0.0</td>\n",
       "      <td>Thefts</td>\n",
       "      <td>322</td>\n",
       "    </tr>\n",
       "    <tr>\n",
       "      <th>23</th>\n",
       "      <td>0.0</td>\n",
       "      <td>Vandalism/Criminal Mischief</td>\n",
       "      <td>315</td>\n",
       "    </tr>\n",
       "    <tr>\n",
       "      <th>...</th>\n",
       "      <td>...</td>\n",
       "      <td>...</td>\n",
       "      <td>...</td>\n",
       "    </tr>\n",
       "    <tr>\n",
       "      <th>613</th>\n",
       "      <td>23.0</td>\n",
       "      <td>All Other Offenses</td>\n",
       "      <td>496</td>\n",
       "    </tr>\n",
       "    <tr>\n",
       "      <th>622</th>\n",
       "      <td>23.0</td>\n",
       "      <td>Motor Vehicle Theft</td>\n",
       "      <td>227</td>\n",
       "    </tr>\n",
       "    <tr>\n",
       "      <th>625</th>\n",
       "      <td>23.0</td>\n",
       "      <td>Other Assaults</td>\n",
       "      <td>549</td>\n",
       "    </tr>\n",
       "    <tr>\n",
       "      <th>634</th>\n",
       "      <td>23.0</td>\n",
       "      <td>Thefts</td>\n",
       "      <td>408</td>\n",
       "    </tr>\n",
       "    <tr>\n",
       "      <th>635</th>\n",
       "      <td>23.0</td>\n",
       "      <td>Vandalism/Criminal Mischief</td>\n",
       "      <td>325</td>\n",
       "    </tr>\n",
       "  </tbody>\n",
       "</table>\n",
       "<p>120 rows × 3 columns</p>\n",
       "</div>"
      ],
      "text/plain": [
       "     hour                        crime  count\n",
       "2     0.0           All Other Offenses    561\n",
       "11    0.0          Motor Vehicle Theft    221\n",
       "14    0.0               Other Assaults    681\n",
       "22    0.0                       Thefts    322\n",
       "23    0.0  Vandalism/Criminal Mischief    315\n",
       "..    ...                          ...    ...\n",
       "613  23.0           All Other Offenses    496\n",
       "622  23.0          Motor Vehicle Theft    227\n",
       "625  23.0               Other Assaults    549\n",
       "634  23.0                       Thefts    408\n",
       "635  23.0  Vandalism/Criminal Mischief    325\n",
       "\n",
       "[120 rows x 3 columns]"
      ]
     },
     "execution_count": 88,
     "metadata": {},
     "output_type": "execute_result"
    }
   ],
   "source": [
    "# group by hour and crime\n",
    "hour_crime = crime_clean.groupby(['hour', 'crime']).size().reset_index(name='count')\n",
    "hour_crime\n",
    "\n",
    "# select only the top 5 crimes\n",
    "top_crimes = crime_count.index[0:5]\n",
    "\n",
    "# filter out only the top 5 crimes\n",
    "hour_crime_top5 = hour_crime[hour_crime['crime'].isin(top_crimes)]\n",
    "hour_crime_top5"
   ]
  },
  {
   "cell_type": "markdown",
   "metadata": {},
   "source": [
    "This following step is a little less intuitive: we are turning the data from ['long' format into 'wide'](https://www.statology.org/long-vs-wide-data/) to allow us to plot the temporal patterns of the top crime types side-by-side in a facet plot.\n",
    "\n",
    "In `long format`, each observation or measurement has its own row, and multiple columns represent different aspects of that observation, such as the variable name and the value.\n",
    "\n",
    "In `wide format`, each unique identifier (e.g., a subject, individual, or time period) has a single row, and multiple columns represent different variables or observations."
   ]
  },
  {
   "cell_type": "code",
   "execution_count": 91,
   "metadata": {},
   "outputs": [
    {
     "data": {
      "text/html": [
       "<div>\n",
       "<style scoped>\n",
       "    .dataframe tbody tr th:only-of-type {\n",
       "        vertical-align: middle;\n",
       "    }\n",
       "\n",
       "    .dataframe tbody tr th {\n",
       "        vertical-align: top;\n",
       "    }\n",
       "\n",
       "    .dataframe thead th {\n",
       "        text-align: right;\n",
       "    }\n",
       "</style>\n",
       "<table border=\"1\" class=\"dataframe\">\n",
       "  <thead>\n",
       "    <tr style=\"text-align: right;\">\n",
       "      <th></th>\n",
       "      <th>hour</th>\n",
       "      <th>crime</th>\n",
       "      <th>count</th>\n",
       "    </tr>\n",
       "  </thead>\n",
       "  <tbody>\n",
       "    <tr>\n",
       "      <th>2</th>\n",
       "      <td>0.0</td>\n",
       "      <td>All Other Offenses</td>\n",
       "      <td>561</td>\n",
       "    </tr>\n",
       "    <tr>\n",
       "      <th>11</th>\n",
       "      <td>0.0</td>\n",
       "      <td>Motor Vehicle Theft</td>\n",
       "      <td>221</td>\n",
       "    </tr>\n",
       "    <tr>\n",
       "      <th>14</th>\n",
       "      <td>0.0</td>\n",
       "      <td>Other Assaults</td>\n",
       "      <td>681</td>\n",
       "    </tr>\n",
       "    <tr>\n",
       "      <th>22</th>\n",
       "      <td>0.0</td>\n",
       "      <td>Thefts</td>\n",
       "      <td>322</td>\n",
       "    </tr>\n",
       "    <tr>\n",
       "      <th>23</th>\n",
       "      <td>0.0</td>\n",
       "      <td>Vandalism/Criminal Mischief</td>\n",
       "      <td>315</td>\n",
       "    </tr>\n",
       "    <tr>\n",
       "      <th>27</th>\n",
       "      <td>1.0</td>\n",
       "      <td>All Other Offenses</td>\n",
       "      <td>400</td>\n",
       "    </tr>\n",
       "    <tr>\n",
       "      <th>36</th>\n",
       "      <td>1.0</td>\n",
       "      <td>Motor Vehicle Theft</td>\n",
       "      <td>164</td>\n",
       "    </tr>\n",
       "    <tr>\n",
       "      <th>39</th>\n",
       "      <td>1.0</td>\n",
       "      <td>Other Assaults</td>\n",
       "      <td>461</td>\n",
       "    </tr>\n",
       "    <tr>\n",
       "      <th>47</th>\n",
       "      <td>1.0</td>\n",
       "      <td>Thefts</td>\n",
       "      <td>216</td>\n",
       "    </tr>\n",
       "    <tr>\n",
       "      <th>48</th>\n",
       "      <td>1.0</td>\n",
       "      <td>Vandalism/Criminal Mischief</td>\n",
       "      <td>250</td>\n",
       "    </tr>\n",
       "  </tbody>\n",
       "</table>\n",
       "</div>"
      ],
      "text/plain": [
       "    hour                        crime  count\n",
       "2    0.0           All Other Offenses    561\n",
       "11   0.0          Motor Vehicle Theft    221\n",
       "14   0.0               Other Assaults    681\n",
       "22   0.0                       Thefts    322\n",
       "23   0.0  Vandalism/Criminal Mischief    315\n",
       "27   1.0           All Other Offenses    400\n",
       "36   1.0          Motor Vehicle Theft    164\n",
       "39   1.0               Other Assaults    461\n",
       "47   1.0                       Thefts    216\n",
       "48   1.0  Vandalism/Criminal Mischief    250"
      ]
     },
     "execution_count": 91,
     "metadata": {},
     "output_type": "execute_result"
    }
   ],
   "source": [
    "# long format\n",
    "hour_crime_top5.head(10)"
   ]
  },
  {
   "cell_type": "code",
   "execution_count": 92,
   "metadata": {},
   "outputs": [
    {
     "data": {
      "text/html": [
       "<div>\n",
       "<style scoped>\n",
       "    .dataframe tbody tr th:only-of-type {\n",
       "        vertical-align: middle;\n",
       "    }\n",
       "\n",
       "    .dataframe tbody tr th {\n",
       "        vertical-align: top;\n",
       "    }\n",
       "\n",
       "    .dataframe thead th {\n",
       "        text-align: right;\n",
       "    }\n",
       "</style>\n",
       "<table border=\"1\" class=\"dataframe\">\n",
       "  <thead>\n",
       "    <tr style=\"text-align: right;\">\n",
       "      <th>crime</th>\n",
       "      <th>All Other Offenses</th>\n",
       "      <th>Motor Vehicle Theft</th>\n",
       "      <th>Other Assaults</th>\n",
       "      <th>Thefts</th>\n",
       "      <th>Vandalism/Criminal Mischief</th>\n",
       "    </tr>\n",
       "    <tr>\n",
       "      <th>hour</th>\n",
       "      <th></th>\n",
       "      <th></th>\n",
       "      <th></th>\n",
       "      <th></th>\n",
       "      <th></th>\n",
       "    </tr>\n",
       "  </thead>\n",
       "  <tbody>\n",
       "    <tr>\n",
       "      <th>0.0</th>\n",
       "      <td>561</td>\n",
       "      <td>221</td>\n",
       "      <td>681</td>\n",
       "      <td>322</td>\n",
       "      <td>315</td>\n",
       "    </tr>\n",
       "    <tr>\n",
       "      <th>1.0</th>\n",
       "      <td>400</td>\n",
       "      <td>164</td>\n",
       "      <td>461</td>\n",
       "      <td>216</td>\n",
       "      <td>250</td>\n",
       "    </tr>\n",
       "    <tr>\n",
       "      <th>2.0</th>\n",
       "      <td>200</td>\n",
       "      <td>147</td>\n",
       "      <td>326</td>\n",
       "      <td>177</td>\n",
       "      <td>219</td>\n",
       "    </tr>\n",
       "    <tr>\n",
       "      <th>3.0</th>\n",
       "      <td>137</td>\n",
       "      <td>131</td>\n",
       "      <td>244</td>\n",
       "      <td>123</td>\n",
       "      <td>209</td>\n",
       "    </tr>\n",
       "    <tr>\n",
       "      <th>4.0</th>\n",
       "      <td>101</td>\n",
       "      <td>179</td>\n",
       "      <td>191</td>\n",
       "      <td>123</td>\n",
       "      <td>149</td>\n",
       "    </tr>\n",
       "    <tr>\n",
       "      <th>5.0</th>\n",
       "      <td>96</td>\n",
       "      <td>169</td>\n",
       "      <td>141</td>\n",
       "      <td>170</td>\n",
       "      <td>161</td>\n",
       "    </tr>\n",
       "    <tr>\n",
       "      <th>6.0</th>\n",
       "      <td>183</td>\n",
       "      <td>140</td>\n",
       "      <td>128</td>\n",
       "      <td>156</td>\n",
       "      <td>129</td>\n",
       "    </tr>\n",
       "    <tr>\n",
       "      <th>7.0</th>\n",
       "      <td>159</td>\n",
       "      <td>506</td>\n",
       "      <td>276</td>\n",
       "      <td>537</td>\n",
       "      <td>328</td>\n",
       "    </tr>\n",
       "    <tr>\n",
       "      <th>8.0</th>\n",
       "      <td>281</td>\n",
       "      <td>960</td>\n",
       "      <td>624</td>\n",
       "      <td>1143</td>\n",
       "      <td>628</td>\n",
       "    </tr>\n",
       "    <tr>\n",
       "      <th>9.0</th>\n",
       "      <td>551</td>\n",
       "      <td>822</td>\n",
       "      <td>876</td>\n",
       "      <td>1395</td>\n",
       "      <td>600</td>\n",
       "    </tr>\n",
       "  </tbody>\n",
       "</table>\n",
       "</div>"
      ],
      "text/plain": [
       "crime  All Other Offenses  Motor Vehicle Theft  Other Assaults  Thefts  \\\n",
       "hour                                                                     \n",
       "0.0                   561                  221             681     322   \n",
       "1.0                   400                  164             461     216   \n",
       "2.0                   200                  147             326     177   \n",
       "3.0                   137                  131             244     123   \n",
       "4.0                   101                  179             191     123   \n",
       "5.0                    96                  169             141     170   \n",
       "6.0                   183                  140             128     156   \n",
       "7.0                   159                  506             276     537   \n",
       "8.0                   281                  960             624    1143   \n",
       "9.0                   551                  822             876    1395   \n",
       "\n",
       "crime  Vandalism/Criminal Mischief  \n",
       "hour                                \n",
       "0.0                            315  \n",
       "1.0                            250  \n",
       "2.0                            219  \n",
       "3.0                            209  \n",
       "4.0                            149  \n",
       "5.0                            161  \n",
       "6.0                            129  \n",
       "7.0                            328  \n",
       "8.0                            628  \n",
       "9.0                            600  "
      ]
     },
     "execution_count": 92,
     "metadata": {},
     "output_type": "execute_result"
    }
   ],
   "source": [
    "# pivot the table\n",
    "hour_crime_pivot = hour_crime_top5.pivot(index='hour', columns='crime', values='count')\n",
    "\n",
    "# wide format\n",
    "hour_crime_pivot.head(10)"
   ]
  },
  {
   "cell_type": "markdown",
   "metadata": {},
   "source": [
    "Now let's write out the tables we've made as csv files. This way, you will not need to rerun all of the data processing code each time you want to use this data. \n",
    "\n",
    "When writing objects to files, the syntax is the following: `object.to_csv('filepath/filename.filetype')`."
   ]
  },
  {
   "cell_type": "code",
   "execution_count": 126,
   "metadata": {},
   "outputs": [],
   "source": [
    "# write to csv\n",
    "crime_count.to_csv('data/crime_count.csv')\n",
    "hour_count.to_csv('data/hour_count.csv')\n",
    "hour_crime_pivot.to_csv('data/hour_crime_pivot.csv')"
   ]
  },
  {
   "cell_type": "markdown",
   "metadata": {},
   "source": [
    "# 4 Visualizing data using matplotlib \n",
    "\n",
    "To visualize some of our data, we'll read in the csv files we just created."
   ]
  },
  {
   "cell_type": "code",
   "execution_count": 94,
   "metadata": {},
   "outputs": [],
   "source": [
    "crime_count = pd.read_csv('data/crime_clean.csv')\n",
    "hour_count = pd.read_csv('data/hour_count.csv')\n",
    "hour_crime_pivot = pd.read_csv('data/hour_crime_pivot.csv')"
   ]
  },
  {
   "cell_type": "markdown",
   "metadata": {},
   "source": [
    "Now let's plot our data. When exploring datasets or performing analyses, it can be helpful to visualize trends in our data. Let's start with the hourly trends across the crime dataset.  \n",
    "\n",
    "Recall that we imported `matplotlib.pyplot`, a module of plotting library `matplotlib`, as `plt` at the top of this notebook. Now, we can call `plt` to initialize a plot and add specifications to it. The basic component functions of a matplotlib plot are the following:\n",
    "- `figure`: the window that the plot will be on. Think of this as a blank canvas. Here, we specify the dimensions (and number number of subplots, if applicable)  \n",
    "- plot-type function (`barh`, or horizontal bar, in this case): this function specifies the type of plot we are creating. Typically, the arguments are the x and y variables to be plotted, as well as optional aesthetics such as color.  \n",
    "- `xlabel` and `ylabel`: axis labels - this allows us to bypass the less appealing column names that are the default axis labels  \n",
    "- `title`: self explanatory.  \n",
    "\n",
    "Beyond the basic arguments, there are countless ways to personalize plot aesthetics. Here, we'll just use `grid` and `box` to remove unnecessary clutter from our plot. To see what these functions do, try commenting out lines 7 and 8 and running the code chunk."
   ]
  },
  {
   "cell_type": "code",
   "execution_count": 131,
   "metadata": {},
   "outputs": [
    {
     "data": {
      "image/png": "[encoded data removed]",
      "text/plain": [
       "<Figure size 1000x600 with 1 Axes>"
      ]
     },
     "metadata": {},
     "output_type": "display_data"
    }
   ],
   "source": [
    "# Plotting\n",
    "plt.figure(figsize=(10, 6))\n",
    "plt.barh(crime_count.head(10)['crime'], crime_count.head(10)['count'], color='salmon')  # plot-type function: we are using a horizontal bar plot, and plotting the top 10 crimes using head()\n",
    "plt.xlabel('Count')\n",
    "plt.ylabel('Crime')\n",
    "plt.title('Count of Different Kinds of Crime')\n",
    "plt.grid(False)\n",
    "plt.box(False)"
   ]
  },
  {
   "cell_type": "markdown",
   "metadata": {},
   "source": [
    "Now let's look at the temporal trends in Philadelphia crime incidents. Like before, we are making use of `figure`, a plot-type function, `xlabel`, `ylabel`, and `title`. For this plot, we are making a regular bar chart instead of a horizontal one because it's easier to interpret change from left to right. We are also introducing `xticks`, which sets custom value labels on the x axis. "
   ]
  },
  {
   "cell_type": "code",
   "execution_count": 139,
   "metadata": {},
   "outputs": [
    {
     "data": {
      "image/png": "[encoded data removed]",
      "text/plain": [
       "<Figure size 1000x600 with 1 Axes>"
      ]
     },
     "metadata": {},
     "output_type": "display_data"
    }
   ],
   "source": [
    "# Plotting\n",
    "plt.figure(figsize=(10, 6))\n",
    "plt.bar(hour_count.sort_values(by='hour')['hour'], hour_count.sort_values(by='hour')['count'], color='skyblue')\n",
    "plt.xlabel('Hour')\n",
    "plt.ylabel('Incidents')\n",
    "plt.title('Hourly distribution of crimes')\n",
    "plt.xticks(range(24))\n",
    "plt.grid(False)\n",
    "plt.box(False)"
   ]
  },
  {
   "cell_type": "markdown",
   "metadata": {},
   "source": [
    "Let's combine these concepts to see if there are differences in temporal patterns across the top 5 crime categories. Adding to our previous codebase, we add a `subplots` argument to indicate that we want to visualize each crime type individually. \n",
    "\n",
    "Looking at the plot, what can we tell about the timing of each crime type?"
   ]
  },
  {
   "cell_type": "code",
   "execution_count": 140,
   "metadata": {},
   "outputs": [
    {
     "data": {
      "image/png": "[encoded data removed]",
      "text/plain": [
       "<Figure size 1200x1000 with 5 Axes>"
      ]
     },
     "metadata": {},
     "output_type": "display_data"
    }
   ],
   "source": [
    "# Specify the x and y columns\n",
    "ax = hour_crime_pivot.plot(\n",
    "    kind='bar', \n",
    "    x='hour',  # Assuming 'hour' is the column representing the x-axis\n",
    "    y=hour_crime_pivot.columns.difference(['hour']),  # Plot all columns except 'hour'\n",
    "    subplots=True,  # Ensure there's no subplot created for 'hour'\n",
    "    figsize=(12, 10),\n",
    "    title='Hourly distribution of top 5 crimes'\n",
    ")"
   ]
  },
  {
   "cell_type": "markdown",
   "metadata": {},
   "source": [
    "# "
   ]
  }
 ],
 "metadata": {
  "kernelspec": {
   "display_name": "py_basic_env_v2",
   "language": "python",
   "name": "python3"
  },
  "language_info": {
   "codemirror_mode": {
    "name": "ipython",
    "version": 3
   },
   "file_extension": ".py",
   "mimetype": "text/x-python",
   "name": "python",
   "nbconvert_exporter": "python",
   "pygments_lexer": "ipython3",
   "version": "3.12.2"
  }
 },
 "nbformat": 4,
 "nbformat_minor": 2
}
